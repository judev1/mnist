{
 "cells": [
  {
   "cell_type": "markdown",
   "id": "c68688c6",
   "metadata": {},
   "source": [
    "# Creating an MNIST model\n",
    "\n",
    "For this project we will require the following packages:\n",
    " - torch\n",
    " - torchvision\n",
    " - matplotlib\n",
    "\n",
    "The packages can be downloaded from the requirements.txt\n",
    "```\n",
    "pip install -r requirements.txt\n",
    "```"
   ]
  },
  {
   "cell_type": "code",
   "execution_count": 1,
   "metadata": {},
   "outputs": [],
   "source": [
    "import torch\n",
    "import torch.nn as nn\n",
    "import matplotlib.pyplot as plt"
   ]
  },
  {
   "cell_type": "markdown",
   "id": "2e3b5789",
   "metadata": {},
   "source": [
    "## Downloading the model\n",
    "\n",
    "First we start by downloading the MNIST dataset, `torchvision` has a build in `dataset` object to install the MNIST dataset. After downloading the dataset we can use the `DataLoader` object to obtain iterables for the datasets."
   ]
  },
  {
   "cell_type": "code",
   "execution_count": 2,
   "id": "deb68ca0",
   "metadata": {},
   "outputs": [
    {
     "name": "stderr",
     "output_type": "stream",
     "text": [
      "1.7%"
     ]
    },
    {
     "name": "stdout",
     "output_type": "stream",
     "text": [
      "Downloading http://yann.lecun.com/exdb/mnist/train-images-idx3-ubyte.gz\n",
      "Downloading http://yann.lecun.com/exdb/mnist/train-images-idx3-ubyte.gz to datasets\\MNIST\\raw\\train-images-idx3-ubyte.gz\n"
     ]
    },
    {
     "name": "stderr",
     "output_type": "stream",
     "text": [
      "100.0%\n"
     ]
    },
    {
     "name": "stdout",
     "output_type": "stream",
     "text": [
      "Extracting datasets\\MNIST\\raw\\train-images-idx3-ubyte.gz to datasets\\MNIST\\raw\n"
     ]
    },
    {
     "name": "stderr",
     "output_type": "stream",
     "text": [
      "100.0%"
     ]
    },
    {
     "name": "stdout",
     "output_type": "stream",
     "text": [
      "\n",
      "Downloading http://yann.lecun.com/exdb/mnist/train-labels-idx1-ubyte.gz\n",
      "Downloading http://yann.lecun.com/exdb/mnist/train-labels-idx1-ubyte.gz to datasets\\MNIST\\raw\\train-labels-idx1-ubyte.gz\n",
      "Extracting datasets\\MNIST\\raw\\train-labels-idx1-ubyte.gz to datasets\\MNIST\\raw\n",
      "\n",
      "Downloading http://yann.lecun.com/exdb/mnist/t10k-images-idx3-ubyte.gz\n"
     ]
    },
    {
     "name": "stderr",
     "output_type": "stream",
     "text": [
      "\n",
      "13.9%"
     ]
    },
    {
     "name": "stdout",
     "output_type": "stream",
     "text": [
      "Downloading http://yann.lecun.com/exdb/mnist/t10k-images-idx3-ubyte.gz to datasets\\MNIST\\raw\\t10k-images-idx3-ubyte.gz\n"
     ]
    },
    {
     "name": "stderr",
     "output_type": "stream",
     "text": [
      "100.0%\n",
      "100.0%\n"
     ]
    },
    {
     "name": "stdout",
     "output_type": "stream",
     "text": [
      "Extracting datasets\\MNIST\\raw\\t10k-images-idx3-ubyte.gz to datasets\\MNIST\\raw\n",
      "\n",
      "Downloading http://yann.lecun.com/exdb/mnist/t10k-labels-idx1-ubyte.gz\n",
      "Downloading http://yann.lecun.com/exdb/mnist/t10k-labels-idx1-ubyte.gz to datasets\\MNIST\\raw\\t10k-labels-idx1-ubyte.gz\n",
      "Extracting datasets\\MNIST\\raw\\t10k-labels-idx1-ubyte.gz to datasets\\MNIST\\raw\n",
      "\n"
     ]
    }
   ],
   "source": [
    "import torchvision.datasets as datasets\n",
    "from torch.utils.data import DataLoader\n",
    "from torchvision.transforms import ToTensor\n",
    "\n",
    "training_data = datasets.MNIST('datasets', download=True, transform=ToTensor())\n",
    "testing_data = datasets.MNIST('datasets', train=False, transform=ToTensor())\n",
    "\n",
    "train_dataloader = DataLoader(training_data, batch_size=64)\n",
    "test_dataloader = DataLoader(testing_data, batch_size=64)"
   ]
  },
  {
   "cell_type": "markdown",
   "id": "16d0edeb",
   "metadata": {},
   "source": [
    "We can see the data downloaded successfully by viewing the training data dataset object and viewing one of the images. In future the dataset object will use the downloaded files."
   ]
  },
  {
   "cell_type": "code",
   "execution_count": 3,
   "id": "8b7cd5fd",
   "metadata": {},
   "outputs": [
    {
     "data": {
      "text/plain": [
       "Dataset MNIST\n",
       "    Number of datapoints: 60000\n",
       "    Root location: datasets\n",
       "    Split: Train\n",
       "    StandardTransform\n",
       "Transform: ToTensor()"
      ]
     },
     "execution_count": 3,
     "metadata": {},
     "output_type": "execute_result"
    }
   ],
   "source": [
    "training_data"
   ]
  },
  {
   "cell_type": "code",
   "execution_count": 4,
   "id": "6c3c3dc1",
   "metadata": {},
   "outputs": [
    {
     "data": {
      "image/png": "[encoded data removed]",
      "text/plain": [
       "<Figure size 640x480 with 1 Axes>"
      ]
     },
     "metadata": {},
     "output_type": "display_data"
    }
   ],
   "source": [
    "plt.imshow(training_data[0][0].squeeze(), cmap=\"gray\")\n",
    "plt.title(f'The number {training_data[0][1]}')\n",
    "plt.show()"
   ]
  },
  {
   "cell_type": "markdown",
   "id": "2db56654",
   "metadata": {},
   "source": [
    "## Creating the model object\n",
    "\n",
    "We can use the `torch.nn` module for all of our neural network functions. `nn.Module` is used as a base class for our neural network object."
   ]
  },
  {
   "cell_type": "code",
   "execution_count": 5,
   "id": "62ba1265",
   "metadata": {},
   "outputs": [],
   "source": [
    "class NeuralNetwork(nn.Module):\n",
    "    def __init__(self):\n",
    "        super().__init__()\n",
    "        self.flatten = nn.Flatten()\n",
    "        self.linear_relu_stack = nn.Sequential(\n",
    "            nn.Linear(28*28, 512),\n",
    "            nn.ReLU(),\n",
    "            nn.Linear(512, 32),\n",
    "            nn.ReLU(),\n",
    "            nn.Linear(32, 10)\n",
    "        )\n",
    "\n",
    "    def forward(self, x):\n",
    "        x = self.flatten(x)\n",
    "        logits = self.linear_relu_stack(x)\n",
    "        return logits"
   ]
  },
  {
   "cell_type": "markdown",
   "id": "f3d86f15",
   "metadata": {},
   "source": [
    "Here we initiate the `NeuralNetwork` object and specify the device depending on whether or not cuda is available."
   ]
  },
  {
   "cell_type": "code",
   "execution_count": 7,
   "id": "b4292e4c",
   "metadata": {},
   "outputs": [],
   "source": [
    "device = 'cuda' if torch.cuda.is_available() else 'cpu'\n",
    "model = NeuralNetwork().to(device)"
   ]
  },
  {
   "cell_type": "code",
   "execution_count": 8,
   "id": "02a3c026",
   "metadata": {},
   "outputs": [
    {
     "data": {
      "text/plain": [
       "NeuralNetwork(\n",
       "  (flatten): Flatten(start_dim=1, end_dim=-1)\n",
       "  (linear_relu_stack): Sequential(\n",
       "    (0): Linear(in_features=784, out_features=512, bias=True)\n",
       "    (1): ReLU()\n",
       "    (2): Linear(in_features=512, out_features=32, bias=True)\n",
       "    (3): ReLU()\n",
       "    (4): Linear(in_features=32, out_features=10, bias=True)\n",
       "  )\n",
       ")"
      ]
     },
     "execution_count": 8,
     "metadata": {},
     "output_type": "execute_result"
    }
   ],
   "source": [
    "model"
   ]
  },
  {
   "cell_type": "markdown",
   "id": "1602284a",
   "metadata": {},
   "source": [
    "## Training and testing the model\n",
    "\n",
    "We start by specifying a loss function and an optimiser, and then create functions to carry out the training and testing and provide details into the progress."
   ]
  },
  {
   "cell_type": "code",
   "execution_count": 10,
   "id": "9189fbdb",
   "metadata": {},
   "outputs": [],
   "source": [
    "loss_fn = nn.CrossEntropyLoss()\n",
    "optimizer = torch.optim.SGD(model.parameters(), lr=1e-3)"
   ]
  },
  {
   "cell_type": "code",
   "execution_count": 11,
   "id": "fe595682",
   "metadata": {},
   "outputs": [],
   "source": [
    "def train_data(model):\n",
    "    for xb, yb in train_dataloader:\n",
    "        preds = model(xb)\n",
    "        loss = loss_fn(preds, yb)\n",
    "        optimizer.zero_grad()\n",
    "        loss.backward()\n",
    "        optimizer.step()\n",
    "    loss = loss.item()\n",
    "    print(f\"Train loss: {loss:>7f}\")"
   ]
  },
  {
   "cell_type": "code",
   "execution_count": 12,
   "id": "82c33c4d",
   "metadata": {},
   "outputs": [],
   "source": [
    "def test_data(model):\n",
    "    num_batches = len(test_dataloader)\n",
    "    size = len(test_dataloader.dataset)\n",
    "    test_loss, corrects = 0, 0\n",
    "\n",
    "    with torch.no_grad():\n",
    "        for xb, yb in test_dataloader:\n",
    "            preds = model(xb)\n",
    "            test_loss += loss_fn(preds, yb).item()\n",
    "            corrects += (preds.argmax(1) == yb).type(torch.float).sum().item()\n",
    "    test_loss /= num_batches\n",
    "    corrects /= size\n",
    "    print(f'Test loss: {test_loss:>8f}')\n",
    "    print(f'  Accuracy: {(100*corrects):>0.1f}%\\n')"
   ]
  },
  {
   "cell_type": "markdown",
   "id": "4e284c24",
   "metadata": {},
   "source": [
    "Now we can actually start training and testing the model, initially the model will have a very low accuracy which will be improved with training."
   ]
  },
  {
   "cell_type": "code",
   "execution_count": 13,
   "id": "7d31e59f",
   "metadata": {},
   "outputs": [
    {
     "name": "stdout",
     "output_type": "stream",
     "text": [
      "Train loss: 2.272223\n",
      "Test loss: 2.276250\n",
      "  Accuracy: 18.9%\n",
      "\n"
     ]
    }
   ],
   "source": [
    "train_data(model)\n",
    "test_data(model)"
   ]
  },
  {
   "cell_type": "markdown",
   "id": "c727c5bc",
   "metadata": {},
   "source": [
    "We'll set it to repeat 60 times in hopes that the accuracy will improve."
   ]
  },
  {
   "cell_type": "code",
   "execution_count": 14,
   "id": "dbbdb3b0",
   "metadata": {},
   "outputs": [
    {
     "name": "stdout",
     "output_type": "stream",
     "text": [
      "Train loss: 2.231240\n",
      "Test loss: 2.227819\n",
      "  Accuracy: 40.1%\n",
      "\n",
      "Train loss: 2.167623\n",
      "Test loss: 2.155825\n",
      "  Accuracy: 53.3%\n",
      "\n",
      "Train loss: 2.065375\n",
      "Test loss: 2.039607\n",
      "  Accuracy: 62.0%\n",
      "\n",
      "Train loss: 1.898310\n",
      "Test loss: 1.852895\n",
      "  Accuracy: 67.8%\n",
      "\n",
      "Train loss: 1.657552\n",
      "Test loss: 1.591688\n",
      "  Accuracy: 71.8%\n",
      "\n",
      "Train loss: 1.376801\n",
      "Test loss: 1.306434\n",
      "  Accuracy: 74.9%\n",
      "\n",
      "Train loss: 1.116488\n",
      "Test loss: 1.064832\n",
      "  Accuracy: 77.6%\n",
      "\n",
      "Train loss: 0.909331\n",
      "Test loss: 0.889226\n",
      "  Accuracy: 79.9%\n",
      "\n",
      "Train loss: 0.751922\n",
      "Test loss: 0.766921\n",
      "  Accuracy: 81.6%\n",
      "\n",
      "Train loss: 0.633505\n",
      "Test loss: 0.680587\n",
      "  Accuracy: 83.1%\n",
      "\n",
      "Train loss: 0.544353\n",
      "Test loss: 0.617711\n",
      "  Accuracy: 84.2%\n",
      "\n",
      "Train loss: 0.476676\n",
      "Test loss: 0.570428\n",
      "  Accuracy: 85.0%\n",
      "\n",
      "Train loss: 0.424877\n",
      "Test loss: 0.533831\n",
      "  Accuracy: 85.5%\n",
      "\n",
      "Train loss: 0.384717\n",
      "Test loss: 0.504781\n",
      "  Accuracy: 86.2%\n",
      "\n",
      "Train loss: 0.353146\n",
      "Test loss: 0.481171\n",
      "  Accuracy: 86.7%\n",
      "\n",
      "Train loss: 0.328013\n",
      "Test loss: 0.461608\n",
      "  Accuracy: 87.2%\n",
      "\n",
      "Train loss: 0.307683\n",
      "Test loss: 0.445120\n",
      "  Accuracy: 87.5%\n",
      "\n",
      "Train loss: 0.290740\n",
      "Test loss: 0.431003\n",
      "  Accuracy: 87.9%\n",
      "\n",
      "Train loss: 0.276469\n",
      "Test loss: 0.418770\n",
      "  Accuracy: 88.2%\n",
      "\n",
      "Train loss: 0.264242\n",
      "Test loss: 0.408047\n",
      "  Accuracy: 88.5%\n",
      "\n",
      "Train loss: 0.253522\n",
      "Test loss: 0.398555\n",
      "  Accuracy: 88.6%\n",
      "\n",
      "Train loss: 0.243983\n",
      "Test loss: 0.390088\n",
      "  Accuracy: 89.0%\n",
      "\n",
      "Train loss: 0.235326\n",
      "Test loss: 0.382460\n",
      "  Accuracy: 89.2%\n",
      "\n",
      "Train loss: 0.227520\n",
      "Test loss: 0.375534\n",
      "  Accuracy: 89.4%\n",
      "\n",
      "Train loss: 0.220289\n",
      "Test loss: 0.369199\n",
      "  Accuracy: 89.5%\n",
      "\n",
      "Train loss: 0.213590\n",
      "Test loss: 0.363375\n",
      "  Accuracy: 89.7%\n",
      "\n",
      "Train loss: 0.207348\n",
      "Test loss: 0.357974\n",
      "  Accuracy: 89.8%\n",
      "\n",
      "Train loss: 0.201487\n",
      "Test loss: 0.352945\n",
      "  Accuracy: 89.9%\n",
      "\n",
      "Train loss: 0.195968\n",
      "Test loss: 0.348257\n",
      "  Accuracy: 90.1%\n",
      "\n",
      "Train loss: 0.190773\n",
      "Test loss: 0.343857\n",
      "  Accuracy: 90.3%\n",
      "\n",
      "Train loss: 0.185859\n",
      "Test loss: 0.339709\n",
      "  Accuracy: 90.4%\n",
      "\n",
      "Train loss: 0.181161\n",
      "Test loss: 0.335784\n",
      "  Accuracy: 90.5%\n",
      "\n",
      "Train loss: 0.176687\n",
      "Test loss: 0.332065\n",
      "  Accuracy: 90.5%\n",
      "\n",
      "Train loss: 0.172435\n",
      "Test loss: 0.328528\n",
      "  Accuracy: 90.6%\n",
      "\n",
      "Train loss: 0.168418\n",
      "Test loss: 0.325152\n",
      "  Accuracy: 90.7%\n",
      "\n",
      "Train loss: 0.164600\n",
      "Test loss: 0.321916\n",
      "  Accuracy: 90.7%\n",
      "\n",
      "Train loss: 0.160954\n",
      "Test loss: 0.318807\n",
      "  Accuracy: 90.8%\n",
      "\n",
      "Train loss: 0.157472\n",
      "Test loss: 0.315823\n",
      "  Accuracy: 90.9%\n",
      "\n",
      "Train loss: 0.154153\n",
      "Test loss: 0.312951\n",
      "  Accuracy: 91.0%\n",
      "\n",
      "Train loss: 0.150931\n",
      "Test loss: 0.310177\n",
      "  Accuracy: 91.0%\n",
      "\n",
      "Train loss: 0.147872\n",
      "Test loss: 0.307496\n",
      "  Accuracy: 91.1%\n",
      "\n",
      "Train loss: 0.144932\n",
      "Test loss: 0.304897\n",
      "  Accuracy: 91.1%\n",
      "\n",
      "Train loss: 0.142134\n",
      "Test loss: 0.302375\n",
      "  Accuracy: 91.2%\n",
      "\n",
      "Train loss: 0.139420\n",
      "Test loss: 0.299923\n",
      "  Accuracy: 91.3%\n",
      "\n",
      "Train loss: 0.136776\n",
      "Test loss: 0.297538\n",
      "  Accuracy: 91.4%\n",
      "\n",
      "Train loss: 0.134298\n",
      "Test loss: 0.295213\n",
      "  Accuracy: 91.4%\n",
      "\n",
      "Train loss: 0.131886\n",
      "Test loss: 0.292937\n",
      "  Accuracy: 91.5%\n",
      "\n",
      "Train loss: 0.129581\n",
      "Test loss: 0.290724\n",
      "  Accuracy: 91.5%\n",
      "\n",
      "Train loss: 0.127357\n",
      "Test loss: 0.288564\n",
      "  Accuracy: 91.5%\n",
      "\n",
      "Train loss: 0.125210\n",
      "Test loss: 0.286451\n",
      "  Accuracy: 91.6%\n",
      "\n",
      "Train loss: 0.123107\n",
      "Test loss: 0.284381\n",
      "  Accuracy: 91.6%\n",
      "\n",
      "Train loss: 0.121023\n",
      "Test loss: 0.282351\n",
      "  Accuracy: 91.7%\n",
      "\n",
      "Train loss: 0.118955\n",
      "Test loss: 0.280361\n",
      "  Accuracy: 91.7%\n",
      "\n",
      "Train loss: 0.116930\n",
      "Test loss: 0.278403\n",
      "  Accuracy: 91.8%\n",
      "\n",
      "Train loss: 0.114994\n",
      "Test loss: 0.276486\n",
      "  Accuracy: 91.9%\n",
      "\n",
      "Train loss: 0.113130\n",
      "Test loss: 0.274607\n",
      "  Accuracy: 91.9%\n",
      "\n",
      "Train loss: 0.111351\n",
      "Test loss: 0.272756\n",
      "  Accuracy: 92.0%\n",
      "\n",
      "Train loss: 0.109687\n",
      "Test loss: 0.270929\n",
      "  Accuracy: 92.0%\n",
      "\n",
      "Train loss: 0.108058\n",
      "Test loss: 0.269127\n",
      "  Accuracy: 92.0%\n",
      "\n",
      "Train loss: 0.106459\n",
      "Test loss: 0.267348\n",
      "  Accuracy: 92.1%\n",
      "\n"
     ]
    }
   ],
   "source": [
    "for i in range(60):\n",
    "    train_data(model)\n",
    "    test_data(model)"
   ]
  },
  {
   "cell_type": "code",
   "execution_count": 15,
   "id": "1617f881",
   "metadata": {},
   "outputs": [
    {
     "name": "stdout",
     "output_type": "stream",
     "text": [
      "Train loss: 0.104937\n",
      "Test loss: 0.265599\n",
      "  Accuracy: 92.2%\n",
      "\n",
      "Train loss: 0.103453\n",
      "Test loss: 0.263866\n",
      "  Accuracy: 92.2%\n",
      "\n",
      "Train loss: 0.102004\n",
      "Test loss: 0.262156\n",
      "  Accuracy: 92.3%\n",
      "\n",
      "Train loss: 0.100599\n",
      "Test loss: 0.260471\n",
      "  Accuracy: 92.4%\n",
      "\n",
      "Train loss: 0.099202\n",
      "Test loss: 0.258803\n",
      "  Accuracy: 92.5%\n",
      "\n",
      "Train loss: 0.097812\n",
      "Test loss: 0.257147\n",
      "  Accuracy: 92.5%\n",
      "\n",
      "Train loss: 0.096453\n",
      "Test loss: 0.255504\n",
      "  Accuracy: 92.6%\n",
      "\n",
      "Train loss: 0.095131\n",
      "Test loss: 0.253882\n",
      "  Accuracy: 92.6%\n",
      "\n",
      "Train loss: 0.093875\n",
      "Test loss: 0.252279\n",
      "  Accuracy: 92.7%\n",
      "\n",
      "Train loss: 0.092639\n",
      "Test loss: 0.250692\n",
      "  Accuracy: 92.8%\n",
      "\n",
      "Train loss: 0.091418\n",
      "Test loss: 0.249119\n",
      "  Accuracy: 92.8%\n",
      "\n",
      "Train loss: 0.090247\n",
      "Test loss: 0.247566\n",
      "  Accuracy: 92.8%\n",
      "\n",
      "Train loss: 0.089094\n",
      "Test loss: 0.246023\n",
      "  Accuracy: 92.8%\n",
      "\n",
      "Train loss: 0.087943\n",
      "Test loss: 0.244495\n",
      "  Accuracy: 92.9%\n",
      "\n",
      "Train loss: 0.086824\n",
      "Test loss: 0.242982\n",
      "  Accuracy: 93.0%\n",
      "\n",
      "Train loss: 0.085694\n",
      "Test loss: 0.241482\n",
      "  Accuracy: 93.0%\n",
      "\n",
      "Train loss: 0.084555\n",
      "Test loss: 0.239992\n",
      "  Accuracy: 93.0%\n",
      "\n",
      "Train loss: 0.083463\n",
      "Test loss: 0.238516\n",
      "  Accuracy: 93.1%\n",
      "\n",
      "Train loss: 0.082406\n",
      "Test loss: 0.237049\n",
      "  Accuracy: 93.1%\n",
      "\n",
      "Train loss: 0.081397\n",
      "Test loss: 0.235600\n",
      "  Accuracy: 93.1%\n",
      "\n",
      "Train loss: 0.080424\n",
      "Test loss: 0.234161\n",
      "  Accuracy: 93.2%\n",
      "\n",
      "Train loss: 0.079476\n",
      "Test loss: 0.232731\n",
      "  Accuracy: 93.2%\n",
      "\n",
      "Train loss: 0.078532\n",
      "Test loss: 0.231313\n",
      "  Accuracy: 93.3%\n",
      "\n",
      "Train loss: 0.077628\n",
      "Test loss: 0.229902\n",
      "  Accuracy: 93.3%\n",
      "\n",
      "Train loss: 0.076771\n",
      "Test loss: 0.228499\n",
      "  Accuracy: 93.3%\n",
      "\n",
      "Train loss: 0.075928\n",
      "Test loss: 0.227109\n",
      "  Accuracy: 93.4%\n",
      "\n",
      "Train loss: 0.075090\n",
      "Test loss: 0.225729\n",
      "  Accuracy: 93.4%\n",
      "\n",
      "Train loss: 0.074276\n",
      "Test loss: 0.224360\n",
      "  Accuracy: 93.4%\n",
      "\n",
      "Train loss: 0.073451\n",
      "Test loss: 0.223003\n",
      "  Accuracy: 93.4%\n",
      "\n",
      "Train loss: 0.072656\n",
      "Test loss: 0.221660\n",
      "  Accuracy: 93.5%\n",
      "\n",
      "Train loss: 0.071884\n",
      "Test loss: 0.220328\n",
      "  Accuracy: 93.5%\n",
      "\n",
      "Train loss: 0.071092\n",
      "Test loss: 0.219007\n",
      "  Accuracy: 93.6%\n",
      "\n",
      "Train loss: 0.070315\n",
      "Test loss: 0.217698\n",
      "  Accuracy: 93.6%\n",
      "\n",
      "Train loss: 0.069539\n",
      "Test loss: 0.216401\n",
      "  Accuracy: 93.7%\n",
      "\n",
      "Train loss: 0.068799\n",
      "Test loss: 0.215116\n",
      "  Accuracy: 93.7%\n",
      "\n",
      "Train loss: 0.068059\n",
      "Test loss: 0.213839\n",
      "  Accuracy: 93.8%\n",
      "\n",
      "Train loss: 0.067328\n",
      "Test loss: 0.212572\n",
      "  Accuracy: 93.9%\n",
      "\n",
      "Train loss: 0.066641\n",
      "Test loss: 0.211314\n",
      "  Accuracy: 94.0%\n",
      "\n",
      "Train loss: 0.065965\n",
      "Test loss: 0.210061\n",
      "  Accuracy: 94.0%\n",
      "\n",
      "Train loss: 0.065321\n",
      "Test loss: 0.208827\n",
      "  Accuracy: 94.0%\n",
      "\n",
      "Train loss: 0.064687\n",
      "Test loss: 0.207605\n",
      "  Accuracy: 94.0%\n",
      "\n",
      "Train loss: 0.064088\n",
      "Test loss: 0.206396\n",
      "  Accuracy: 94.1%\n",
      "\n",
      "Train loss: 0.063500\n",
      "Test loss: 0.205196\n",
      "  Accuracy: 94.1%\n",
      "\n",
      "Train loss: 0.062952\n",
      "Test loss: 0.204013\n",
      "  Accuracy: 94.1%\n",
      "\n",
      "Train loss: 0.062408\n",
      "Test loss: 0.202838\n",
      "  Accuracy: 94.2%\n",
      "\n",
      "Train loss: 0.061843\n",
      "Test loss: 0.201675\n",
      "  Accuracy: 94.2%\n",
      "\n",
      "Train loss: 0.061313\n",
      "Test loss: 0.200524\n",
      "  Accuracy: 94.2%\n",
      "\n",
      "Train loss: 0.060791\n",
      "Test loss: 0.199387\n",
      "  Accuracy: 94.2%\n",
      "\n",
      "Train loss: 0.060278\n",
      "Test loss: 0.198267\n",
      "  Accuracy: 94.3%\n",
      "\n",
      "Train loss: 0.059799\n",
      "Test loss: 0.197156\n",
      "  Accuracy: 94.3%\n",
      "\n",
      "Train loss: 0.059310\n",
      "Test loss: 0.196054\n",
      "  Accuracy: 94.3%\n",
      "\n",
      "Train loss: 0.058837\n",
      "Test loss: 0.194962\n",
      "  Accuracy: 94.4%\n",
      "\n",
      "Train loss: 0.058370\n",
      "Test loss: 0.193883\n",
      "  Accuracy: 94.4%\n",
      "\n",
      "Train loss: 0.057903\n",
      "Test loss: 0.192812\n",
      "  Accuracy: 94.4%\n",
      "\n",
      "Train loss: 0.057459\n",
      "Test loss: 0.191753\n",
      "  Accuracy: 94.5%\n",
      "\n",
      "Train loss: 0.057031\n",
      "Test loss: 0.190702\n",
      "  Accuracy: 94.5%\n",
      "\n",
      "Train loss: 0.056617\n",
      "Test loss: 0.189664\n",
      "  Accuracy: 94.5%\n",
      "\n",
      "Train loss: 0.056204\n",
      "Test loss: 0.188637\n",
      "  Accuracy: 94.5%\n",
      "\n",
      "Train loss: 0.055797\n",
      "Test loss: 0.187618\n",
      "  Accuracy: 94.5%\n",
      "\n",
      "Train loss: 0.055405\n",
      "Test loss: 0.186610\n",
      "  Accuracy: 94.5%\n",
      "\n"
     ]
    }
   ],
   "source": [
    "for i in range(60):\n",
    "    train_data(model)\n",
    "    test_data(model)"
   ]
  },
  {
   "cell_type": "markdown",
   "id": "80b9538e",
   "metadata": {},
   "source": [
    "## Saving the model"
   ]
  },
  {
   "cell_type": "code",
   "execution_count": 16,
   "id": "e2fe3a4b",
   "metadata": {},
   "outputs": [],
   "source": [
    "torch.save(model.state_dict(), 'mnist.pth')"
   ]
  },
  {
   "cell_type": "markdown",
   "id": "18328ff0",
   "metadata": {},
   "source": [
    "## Opening the model"
   ]
  },
  {
   "cell_type": "code",
   "execution_count": 17,
   "id": "0e8f41bd",
   "metadata": {},
   "outputs": [
    {
     "data": {
      "text/plain": [
       "NeuralNetwork(\n",
       "  (flatten): Flatten(start_dim=1, end_dim=-1)\n",
       "  (linear_relu_stack): Sequential(\n",
       "    (0): Linear(in_features=784, out_features=512, bias=True)\n",
       "    (1): ReLU()\n",
       "    (2): Linear(in_features=512, out_features=32, bias=True)\n",
       "    (3): ReLU()\n",
       "    (4): Linear(in_features=32, out_features=10, bias=True)\n",
       "  )\n",
       ")"
      ]
     },
     "execution_count": 17,
     "metadata": {},
     "output_type": "execute_result"
    }
   ],
   "source": [
    "model = NeuralNetwork().to(device)\n",
    "model.load_state_dict(torch.load('mnist.pth'))\n",
    "model.eval()"
   ]
  },
  {
   "cell_type": "code",
   "execution_count": 18,
   "id": "a26bd8a1",
   "metadata": {},
   "outputs": [
    {
     "name": "stdout",
     "output_type": "stream",
     "text": [
      "Test loss: 0.186610\n",
      "  Accuracy: 94.5%\n",
      "\n"
     ]
    }
   ],
   "source": [
    "test_data(model)"
   ]
  },
  {
   "cell_type": "markdown",
   "id": "ec86c7e3",
   "metadata": {},
   "source": [
    "## Using the model for predictions\n",
    "\n",
    "The `mnist.py` file, when run, contains an interface which can be used to interact with the model. Left click for drawing and right clear to clear the display."
   ]
  }
 ],
 "metadata": {
  "kernelspec": {
   "display_name": "venv",
   "language": "python",
   "name": "python3"
  },
  "language_info": {
   "codemirror_mode": {
    "name": "ipython",
    "version": 3
   },
   "file_extension": ".py",
   "mimetype": "text/x-python",
   "name": "python",
   "nbconvert_exporter": "python",
   "pygments_lexer": "ipython3",
   "version": "3.11.6"
  }
 },
 "nbformat": 4,
 "nbformat_minor": 5
}
